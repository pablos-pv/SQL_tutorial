{
 "cells": [
  {
   "cell_type": "markdown",
   "id": "e000ef2e",
   "metadata": {},
   "source": [
    "# SQL tutorial using MySQL and python connector"
   ]
  },
  {
   "cell_type": "code",
   "execution_count": 1,
   "id": "d2ad3ccc",
   "metadata": {},
   "outputs": [],
   "source": [
    "#pip install mysql-connector-python"
   ]
  },
  {
   "cell_type": "code",
   "execution_count": null,
   "id": "23b436a5",
   "metadata": {},
   "outputs": [],
   "source": [
    "from os import environ\n",
    "from mysql.connector import connect, Error"
   ]
  },
  {
   "cell_type": "code",
   "execution_count": 2,
   "id": "9df0599c",
   "metadata": {},
   "outputs": [],
   "source": [
    "##Alternative way to ask for the password without showing it while typing\n",
    "\n",
    "#from getpass import getpass\n",
    "\n",
    "#user=input(\"Enter username: \")\n",
    "#password=getpass(\"Enter password: \")"
   ]
  },
  {
   "cell_type": "code",
   "execution_count": 3,
   "id": "f251c0a7",
   "metadata": {},
   "outputs": [],
   "source": [
    "## Import credentials from environment variables\n",
    "user=environ.get('MySQL_User')\n",
    "password=environ.get('MySQL_psswrd')"
   ]
  },
  {
   "cell_type": "markdown",
   "id": "b4e83b77",
   "metadata": {},
   "source": [
    "## Establish connection with the server"
   ]
  },
  {
   "cell_type": "code",
   "execution_count": 4,
   "id": "845ff243",
   "metadata": {},
   "outputs": [
    {
     "name": "stdout",
     "output_type": "stream",
     "text": [
      "<mysql.connector.connection_cext.CMySQLConnection object at 0x000001F77DFD2430>\n"
     ]
    }
   ],
   "source": [
    "try:\n",
    "    with connect(host=\"localhost\",user=user,password=password) as connection:\n",
    "        print(connection)\n",
    "except Error as e:\n",
    "    print(\"Error: \",e)"
   ]
  },
  {
   "cell_type": "markdown",
   "id": "c4ec9e5d",
   "metadata": {},
   "source": [
    "## Create a new database"
   ]
  },
  {
   "cell_type": "code",
   "execution_count": 5,
   "id": "9bd4e90a",
   "metadata": {},
   "outputs": [
    {
     "name": "stdout",
     "output_type": "stream",
     "text": [
      "Error:  1007 (HY000): Can't create database 'online_movie_rating'; database exists\n"
     ]
    }
   ],
   "source": [
    "create_db_query = \"CREATE DATABASE online_movie_rating\"\n",
    "\n",
    "try:\n",
    "    with connect(host=\"localhost\",user=user,password=password) as connection:\n",
    "        with connection.cursor() as cursor:\n",
    "            cursor.execute(create_db_query)\n",
    "except Error as e:\n",
    "    print(\"Error: \",e)"
   ]
  },
  {
   "cell_type": "markdown",
   "id": "b596fb2f",
   "metadata": {},
   "source": [
    "## Show existing databases"
   ]
  },
  {
   "cell_type": "code",
   "execution_count": 6,
   "id": "42e0d4ee",
   "metadata": {},
   "outputs": [
    {
     "name": "stdout",
     "output_type": "stream",
     "text": [
      "('information_schema',)\n",
      "('mysql',)\n",
      "('online_movie_rating',)\n",
      "('performance_schema',)\n",
      "('sakila',)\n",
      "('sys',)\n",
      "('world',)\n"
     ]
    }
   ],
   "source": [
    "show_db_query = \"SHOW DATABASES\"\n",
    "\n",
    "try:\n",
    "    with connect(host=\"localhost\",user=user,password=password) as connection:\n",
    "        with connection.cursor() as cursor:\n",
    "            cursor.execute(show_db_query)\n",
    "            for db in cursor:\n",
    "                print(db)\n",
    "except Error as e:\n",
    "    print(\"Error: \",e)"
   ]
  },
  {
   "cell_type": "markdown",
   "id": "9409aeb4",
   "metadata": {},
   "source": [
    "## Connecting to an already existing database"
   ]
  },
  {
   "cell_type": "code",
   "execution_count": 7,
   "id": "1bb72e38",
   "metadata": {},
   "outputs": [
    {
     "name": "stdout",
     "output_type": "stream",
     "text": [
      "<mysql.connector.connection_cext.CMySQLConnection object at 0x000001F77DFD22E0>\n"
     ]
    }
   ],
   "source": [
    "try:\n",
    "    with connect(host=\"localhost\",user=user,password=password,database=\"online_movie_rating\") as connection:\n",
    "        print(connection)\n",
    "except Error as e:\n",
    "    print(\"Error: \",e)"
   ]
  },
  {
   "cell_type": "markdown",
   "id": "7aa1b62d",
   "metadata": {},
   "source": [
    "## Creating new tables in the database"
   ]
  },
  {
   "cell_type": "code",
   "execution_count": 8,
   "id": "4ac70dca",
   "metadata": {},
   "outputs": [],
   "source": [
    "#Define the create table queries\n",
    "\n",
    "create_genres_table_query = \"\"\"\n",
    "CREATE TABLE genres (\n",
    "    id INT AUTO_INCREMENT PRIMARY KEY,\n",
    "    genre VARCHAR(100) NOT NULL,\n",
    "    UNIQUE(genre)\n",
    ")\n",
    "\"\"\"\n",
    "\n",
    "create_movies_table_query = \"\"\"\n",
    "CREATE TABLE movies(\n",
    "    id INT AUTO_INCREMENT PRIMARY KEY,\n",
    "    title VARCHAR(100) NOT NULL,\n",
    "    release_year YEAR(4) NOT NULL,\n",
    "    genre_id INT,\n",
    "    collection_in_mil INT,\n",
    "    FOREIGN KEY (genre_id) REFERENCES genres(id),\n",
    "    CONSTRAINT UC_movie UNIQUE(title,release_year)\n",
    ")\n",
    "\"\"\"\n",
    "\n",
    "create_reviewers_table_query = \"\"\"\n",
    "CREATE TABLE reviewers (\n",
    "    id INT AUTO_INCREMENT PRIMARY KEY,\n",
    "    first_name VARCHAR(100),\n",
    "    last_name VARCHAR(100)\n",
    "    CONSTRAINT UC_movie UNIQUE(first_name,last_name)\n",
    ")\n",
    "\"\"\"\n",
    "\n",
    "#CONSTRAINT UC_reviewer UNIQUE(first_name,last_name)\n",
    "\n",
    "create_ratings_table_query = \"\"\"\n",
    "CREATE TABLE ratings (\n",
    "    movie_id INT,\n",
    "    reviewer_id INT,\n",
    "    rating DECIMAL(2,1) NOT NULL,\n",
    "    FOREIGN KEY(movie_id) REFERENCES movies(id),\n",
    "    FOREIGN KEY(reviewer_id) REFERENCES reviewers(id),\n",
    "    PRIMARY KEY(movie_id, reviewer_id),\n",
    "    CHECK (rating<=10.0)\n",
    ")\n",
    "\"\"\""
   ]
  },
  {
   "cell_type": "code",
   "execution_count": 9,
   "id": "4d822f91",
   "metadata": {},
   "outputs": [
    {
     "name": "stdout",
     "output_type": "stream",
     "text": [
      "ok\n",
      "ok\n",
      "ok\n",
      "ok\n"
     ]
    }
   ],
   "source": [
    "try:\n",
    "    with connect(host=\"localhost\",user=user,password=password,database=\"online_movie_rating\") as connection:\n",
    "        with connection.cursor() as cursor:\n",
    "            cursor.execute(create_genres_table_query)\n",
    "            print(\"ok\")\n",
    "            cursor.execute(create_movies_table_query)\n",
    "            print(\"ok\")\n",
    "            cursor.execute(create_reviewers_table_query)\n",
    "            print(\"ok\")\n",
    "            cursor.execute(create_ratings_table_query)\n",
    "            print(\"ok\")\n",
    "            connection.commit()\n",
    "except Error as e:\n",
    "    print(\"Error: \",e)"
   ]
  },
  {
   "cell_type": "markdown",
   "id": "27570bac",
   "metadata": {},
   "source": [
    "## Show table scheme"
   ]
  },
  {
   "cell_type": "code",
   "execution_count": 10,
   "id": "f425ee6a",
   "metadata": {},
   "outputs": [
    {
     "name": "stdout",
     "output_type": "stream",
     "text": [
      "('id', b'int', 'NO', 'PRI', None, 'auto_increment')\n",
      "('title', b'varchar(100)', 'NO', 'MUL', None, '')\n",
      "('release_year', b'year', 'NO', '', None, '')\n",
      "('genre_id', b'int', 'YES', 'MUL', None, '')\n",
      "('collection_in_mil', b'int', 'YES', '', None, '')\n"
     ]
    }
   ],
   "source": [
    "show_table_query = \"DESCRIBE movies\"\n",
    "\n",
    "try:\n",
    "    with connect(host=\"localhost\",user=user,password=password,database=\"online_movie_rating\") as connection:\n",
    "        with connection.cursor() as cursor:\n",
    "            cursor.execute(show_table_query)\n",
    "            result = cursor.fetchall()\n",
    "            for row in result:\n",
    "                print(row)\n",
    "except Error as e:\n",
    "    print(\"Error: \",e)"
   ]
  },
  {
   "cell_type": "markdown",
   "id": "b8420f71",
   "metadata": {},
   "source": [
    "## Editing tables scheme"
   ]
  },
  {
   "cell_type": "code",
   "execution_count": 11,
   "id": "4f3bd014",
   "metadata": {},
   "outputs": [
    {
     "name": "stdout",
     "output_type": "stream",
     "text": [
      "Movie Table Schema after alteration:\n",
      "('id', b'int', 'NO', 'PRI', None, 'auto_increment')\n",
      "('title', b'varchar(100)', 'NO', 'MUL', None, '')\n",
      "('release_year', b'year', 'NO', '', None, '')\n",
      "('genre_id', b'int', 'YES', 'MUL', None, '')\n",
      "('collection_in_mil', b'decimal(4,1)', 'YES', '', None, '')\n"
     ]
    }
   ],
   "source": [
    "alter_table_query = \"\"\"\n",
    "ALTER TABLE movies\n",
    "MODIFY COLUMN collection_in_mil DECIMAL(4,1)\n",
    "\"\"\"\n",
    "\n",
    "try:\n",
    "    with connect(host=\"localhost\",user=user,password=password,database=\"online_movie_rating\") as connection:\n",
    "        with connection.cursor() as cursor:\n",
    "            cursor.execute(alter_table_query)\n",
    "            cursor.execute(show_table_query)\n",
    "            # Fetch rows from last executed query\n",
    "            result = cursor.fetchall()\n",
    "            print(\"Movie Table Schema after alteration:\")\n",
    "            for row in result:\n",
    "                print(row)\n",
    "except Error as e:\n",
    "    print(\"Error: \",e)"
   ]
  },
  {
   "cell_type": "markdown",
   "id": "5171bf2c",
   "metadata": {},
   "source": [
    "## Deleting tables"
   ]
  },
  {
   "cell_type": "code",
   "execution_count": 12,
   "id": "ecf36172",
   "metadata": {},
   "outputs": [],
   "source": [
    "drop_table_query = \"DROP TABLE ratings\"\n",
    "#drop_table_query = \"DROP TABLE genres\"\n",
    "#drop_table_query = \"DROP TABLE movies\"\n",
    "#drop_table_query = \"DROP TABLE reviewers\"\n",
    "\n",
    "try:\n",
    "    with connect(host=\"localhost\",user=user,password=password,database=\"online_movie_rating\") as connection:\n",
    "        with connection.cursor() as cursor:\n",
    "            cursor.execute(drop_table_query)\n",
    "except Error as e:\n",
    "    print(\"Error: \",e)"
   ]
  },
  {
   "cell_type": "code",
   "execution_count": 13,
   "id": "1345fdc0",
   "metadata": {},
   "outputs": [],
   "source": [
    "try:\n",
    "    with connect(host=\"localhost\",user=user,password=password,database=\"online_movie_rating\") as connection:\n",
    "        with connection.cursor() as cursor:\n",
    "            cursor.execute(create_ratings_table_query)\n",
    "            connection.commit()\n",
    "except Error as e:\n",
    "    print(\"Error: \",e)"
   ]
  },
  {
   "cell_type": "markdown",
   "id": "0ffe0603",
   "metadata": {},
   "source": [
    "## Inserting records"
   ]
  },
  {
   "cell_type": "code",
   "execution_count": 14,
   "id": "c48fe733",
   "metadata": {},
   "outputs": [],
   "source": [
    "insert_genres_query = \"\"\"\n",
    "INSERT INTO genres (genre)\n",
    "VALUES\n",
    "    (\"Drama\"),\n",
    "    (\"Action\"),\n",
    "    (\"Romance\"),\n",
    "    (\"Comedy\"),\n",
    "    (\"Horror\"),\n",
    "    (\"Crime\"),\n",
    "    (\"Adventure\"),\n",
    "    (\"Animation\"),\n",
    "    (\"Sport\"),\n",
    "    (\"War\"),\n",
    "    (\"Thriller\"),\n",
    "    (\"Mistery\")\n",
    "\"\"\"\n",
    "\n",
    "try:\n",
    "    with connect(host=\"localhost\",user=user,password=password,database=\"online_movie_rating\") as connection:\n",
    "        with connection.cursor() as cursor:\n",
    "            cursor.execute(insert_genres_query)\n",
    "            connection.commit()\n",
    "except Error as e:\n",
    "    print(\"Error: \",e)"
   ]
  },
  {
   "cell_type": "code",
   "execution_count": 15,
   "id": "991c8fea",
   "metadata": {},
   "outputs": [],
   "source": [
    "insert_movies_query = \"\"\"\n",
    "INSERT INTO movies (title, release_year, genre_id, collection_in_mil)\n",
    "VALUES\n",
    "    (\"Forrest Gump\", 1994, 1, 330.2),\n",
    "    (\"3 Idiots\", 2009, 1, 2.4),\n",
    "    (\"Eternal Sunshine of the Spotless Mind\", 2004, 1, 34.5),\n",
    "    (\"Good Will Hunting\", 1997, 1, 138.1),\n",
    "    (\"Skyfall\", 2012, 2, 304.6),\n",
    "    (\"Gladiator\", 2000, 2, 188.7),\n",
    "    (\"Black\", 2005, 1, 3.0),\n",
    "    (\"Titanic\", 1997, 3, 659.2),\n",
    "    (\"The Shawshank Redemption\", 1994, 1,28.4),\n",
    "    (\"Udaan\", 2010, 1, 1.5),\n",
    "    (\"Home Alone\", 1990, 4, 286.9),\n",
    "    (\"Casablanca\", 1942, 3, 1.0),\n",
    "    (\"Avengers: Endgame\", 2019, 2, 858.8),\n",
    "    (\"Night of the Living Dead\", 1968, 5, 2.5),\n",
    "    (\"The Godfather\", 1972, 6, 135.6),\n",
    "    (\"Haider\", 2014, 2, 4.2),\n",
    "    (\"Inception\", 2010, 7, 293.7),\n",
    "    (\"Evil\", 2003, 5, 1.3),\n",
    "    (\"Toy Story 4\", 2019, 8, 434.9),\n",
    "    (\"Air Force One\", 1997, 1, 138.1),\n",
    "    (\"The Dark Knight\", 2008, 2,535.4),\n",
    "    (\"Bhaag Milkha Bhaag\", 2013, 9, 4.1),\n",
    "    (\"The Lion King\", 1994, 8, 423.6),\n",
    "    (\"Pulp Fiction\", 1994, 6, 108.8),\n",
    "    (\"Kai Po Che\", 2013, 9, 6.0),\n",
    "    (\"Beasts of No Nation\", 2015, 10, 1.4),\n",
    "    (\"Andadhun\", 2018, 11, 2.9),\n",
    "    (\"The Silence of the Lambs\", 1991, 6, 68.2),\n",
    "    (\"Deadpool\", 2016, 2, 363.6),\n",
    "    (\"Drishyam\", 2015, 12, 3.0)\n",
    "\"\"\"\n",
    "\n",
    "try:\n",
    "    with connect(host=\"localhost\",user=user,password=password,database=\"online_movie_rating\") as connection:\n",
    "        with connection.cursor() as cursor:\n",
    "            cursor.execute(insert_movies_query)\n",
    "            connection.commit()\n",
    "except Error as e:\n",
    "    print(\"Error: \",e)"
   ]
  },
  {
   "cell_type": "code",
   "execution_count": 16,
   "id": "ca630699",
   "metadata": {},
   "outputs": [],
   "source": [
    "###EXECUTEMANY\n",
    "\n",
    "insert_reviewers_query = \"\"\"\n",
    "INSERT INTO reviewers\n",
    "(first_name, last_name)\n",
    "VALUES ( %s, %s )\n",
    "\"\"\"\n",
    "reviewers_records = [\n",
    "    (\"Chaitanya\", \"Baweja\"),\n",
    "    (\"Mary\", \"Cooper\"),\n",
    "    (\"John\", \"Wayne\"),\n",
    "    (\"Thomas\", \"Stoneman\"),\n",
    "    (\"Penny\", \"Hofstadter\"),\n",
    "    (\"Mitchell\", \"Marsh\"),\n",
    "    (\"Wyatt\", \"Skaggs\"),\n",
    "    (\"Andre\", \"Veiga\"),\n",
    "    (\"Sheldon\", \"Cooper\"),\n",
    "    (\"Kimbra\", \"Masters\"),\n",
    "    (\"Kat\", \"Dennings\"),\n",
    "    (\"Bruce\", \"Wayne\"),\n",
    "    (\"Domingo\", \"Cortes\"),\n",
    "    (\"Rajesh\", \"Koothrappali\"),\n",
    "    (\"Ben\", \"Glocker\"),\n",
    "    (\"Mahinder\", \"Dhoni\"),\n",
    "    (\"Akbar\", \"Khan\"),\n",
    "    (\"Howard\", \"Wolowitz\"),\n",
    "    (\"Pinkie\", \"Petit\"),\n",
    "    (\"Gurkaran\", \"Singh\"),\n",
    "    (\"Amy\", \"Farah Fowler\"),\n",
    "    (\"Marlon\", \"Crafford\"),\n",
    "]\n",
    "\n",
    "try:\n",
    "    with connect(host=\"localhost\",user=user,password=password,database=\"online_movie_rating\") as connection:\n",
    "        with connection.cursor() as cursor:\n",
    "            cursor.executemany(insert_reviewers_query,reviewers_records)\n",
    "            connection.commit()\n",
    "except Error as e:\n",
    "    print(\"Error: \",e)"
   ]
  },
  {
   "cell_type": "code",
   "execution_count": 17,
   "id": "84944381",
   "metadata": {},
   "outputs": [],
   "source": [
    "insert_ratings_query = \"\"\"\n",
    "INSERT INTO ratings\n",
    "(rating, movie_id, reviewer_id)\n",
    "VALUES ( %s, %s, %s)\n",
    "\"\"\"\n",
    "\n",
    "ratings_records = [\n",
    "    (6.4, 17, 5), (5.6, 19, 1), (6.3, 22, 14), (5.1, 21, 17),\n",
    "    (5.0, 5, 5), (6.5, 21, 5), (8.5, 30, 13), (9.7, 6, 4),\n",
    "    (8.5, 24, 12), (9.9, 14, 9), (8.7, 26, 14), (9.9, 6, 10),\n",
    "    (5.1, 30, 6), (5.4, 18, 16), (6.2, 6, 20), (7.3, 21, 19),\n",
    "    (8.1, 17, 18), (5.0, 7, 2), (9.8, 23, 3), (8.0, 22, 9),\n",
    "    (8.5, 11, 13), (5.0, 5, 11), (5.7, 8, 2), (7.6, 25, 19),\n",
    "    (5.2, 18, 15), (9.7, 13, 3), (5.8, 18, 8), (5.8, 30, 15),\n",
    "    (8.4, 21, 18), (6.2, 23, 16), (7.0, 10, 18), (9.5, 30, 20),\n",
    "    (8.9, 3, 19), (6.4, 12, 2), (7.8, 12, 22), (9.9, 15, 13),\n",
    "    (7.5, 20, 17), (9.0, 25, 6), (8.5, 23, 2), (5.3, 30, 17),\n",
    "    (6.4, 5, 10), (8.1, 5, 21), (5.7, 22, 1), (6.3, 28, 4),\n",
    "    (9.8, 13, 1)\n",
    "]\n",
    "\n",
    "try:\n",
    "    with connect(host=\"localhost\",user=user,password=password,database=\"online_movie_rating\") as connection:\n",
    "        with connection.cursor() as cursor:\n",
    "            cursor.executemany(insert_ratings_query,ratings_records)\n",
    "            connection.commit()\n",
    "except Error as e:\n",
    "    print(\"Error: \",e)"
   ]
  },
  {
   "cell_type": "markdown",
   "id": "6afac7aa",
   "metadata": {},
   "source": [
    "## Read records and filters"
   ]
  },
  {
   "cell_type": "code",
   "execution_count": 18,
   "id": "00b58295",
   "metadata": {},
   "outputs": [
    {
     "name": "stdout",
     "output_type": "stream",
     "text": [
      "(1, 'Forrest Gump', 1994, 1, Decimal('330.2'))\n",
      "(2, '3 Idiots', 2009, 1, Decimal('2.4'))\n",
      "(3, 'Eternal Sunshine of the Spotless Mind', 2004, 1, Decimal('34.5'))\n",
      "(4, 'Good Will Hunting', 1997, 1, Decimal('138.1'))\n",
      "(5, 'Skyfall', 2012, 2, Decimal('304.6'))\n"
     ]
    }
   ],
   "source": [
    "select_movies_query = \"SELECT * FROM movies LIMIT 5\"\n",
    "\n",
    "try:\n",
    "    with connect(host=\"localhost\",user=user,password=password,database=\"online_movie_rating\") as connection:\n",
    "        with connection.cursor() as cursor:\n",
    "            cursor.execute(select_movies_query)\n",
    "            result = cursor.fetchall()\n",
    "            for row in result:\n",
    "                print(row)\n",
    "except Error as e:\n",
    "    print(\"Error: \",e)"
   ]
  },
  {
   "cell_type": "code",
   "execution_count": 33,
   "id": "04178965",
   "metadata": {},
   "outputs": [
    {
     "name": "stdout",
     "output_type": "stream",
     "text": [
      "('Avengers: Endgame', Decimal('858.8'))\n",
      "('Titanic', Decimal('659.2'))\n",
      "('The Dark Knight', Decimal('535.4'))\n",
      "('Toy Story 4', Decimal('434.9'))\n",
      "('The Lion King', Decimal('423.6'))\n",
      "('Deadpool', Decimal('363.6'))\n",
      "('Forrest Gump', Decimal('330.2'))\n",
      "('Skyfall', Decimal('304.6'))\n"
     ]
    }
   ],
   "source": [
    "select_movies_query = \"\"\"\n",
    "SELECT title,collection_in_mil\n",
    "FROM movies\n",
    "WHERE collection_in_mil > 300\n",
    "ORDER BY collection_in_mil DESC\n",
    "\"\"\"\n",
    "\n",
    "try:\n",
    "    with connect(host=\"localhost\",user=user,password=password,database=\"online_movie_rating\") as connection:\n",
    "        with connection.cursor() as cursor:\n",
    "            cursor.execute(select_movies_query)\n",
    "            result = cursor.fetchall()\n",
    "            for row in result:\n",
    "                print(row)\n",
    "except Error as e:\n",
    "    print(\"Error: \",e)"
   ]
  },
  {
   "cell_type": "code",
   "execution_count": 20,
   "id": "0cf2ab03",
   "metadata": {},
   "outputs": [
    {
     "name": "stdout",
     "output_type": "stream",
     "text": [
      "('Avengers: Endgame (2019)', Decimal('858.8'))\n",
      "('Titanic (1997)', Decimal('659.2'))\n",
      "('The Dark Knight (2008)', Decimal('535.4'))\n",
      "('Toy Story 4 (2019)', Decimal('434.9'))\n",
      "('The Lion King (1994)', Decimal('423.6'))\n"
     ]
    }
   ],
   "source": [
    "select_movies_query = \"\"\"\n",
    "SELECT CONCAT(title, \" (\", release_year, \")\"),collection_in_mil\n",
    "FROM movies\n",
    "ORDER BY collection_in_mil DESC\n",
    "LIMIT 5\n",
    "\"\"\"\n",
    "\n",
    "try:\n",
    "    with connect(host=\"localhost\",user=user,password=password,database=\"online_movie_rating\") as connection:\n",
    "        with connection.cursor() as cursor:\n",
    "            cursor.execute(select_movies_query)\n",
    "            result = cursor.fetchall()\n",
    "            for row in result:\n",
    "                print(row)\n",
    "except Error as e:\n",
    "    print(\"Error: \",e)"
   ]
  },
  {
   "cell_type": "code",
   "execution_count": 21,
   "id": "26afcd79",
   "metadata": {},
   "outputs": [
    {
     "name": "stdout",
     "output_type": "stream",
     "text": [
      "('Avengers: Endgame (2019)', Decimal('858.8'))\n",
      "('Titanic (1997)', Decimal('659.2'))\n",
      "('The Dark Knight (2008)', Decimal('535.4'))\n",
      "('Toy Story 4 (2019)', Decimal('434.9'))\n",
      "('The Lion King (1994)', Decimal('423.6'))\n"
     ]
    }
   ],
   "source": [
    "select_movies_query = \"\"\"\n",
    "SELECT CONCAT(title, \" (\", release_year, \")\"),collection_in_mil\n",
    "FROM movies\n",
    "ORDER BY collection_in_mil DESC\n",
    "\"\"\"\n",
    "\n",
    "try:\n",
    "    with connect(host=\"localhost\",user=user,password=password,database=\"online_movie_rating\") as connection:\n",
    "        with connection.cursor() as cursor:\n",
    "            cursor.execute(select_movies_query)\n",
    "            for movie in cursor.fetchmany(size=5):\n",
    "                print(movie)\n",
    "            cursor.fetchall()\n",
    "except Error as e:\n",
    "    print(\"Error: \",e)"
   ]
  },
  {
   "cell_type": "code",
   "execution_count": 22,
   "id": "f1c1f167",
   "metadata": {},
   "outputs": [
    {
     "name": "stdout",
     "output_type": "stream",
     "text": [
      "('Avengers: Endgame (2019)', Decimal('858.8'))\n"
     ]
    }
   ],
   "source": [
    "try:\n",
    "    with connect(host=\"localhost\",user=user,password=password,database=\"online_movie_rating\") as connection:\n",
    "        with connection.cursor() as cursor:\n",
    "            cursor.execute(select_movies_query)\n",
    "            print(cursor.fetchone())\n",
    "            cursor.fetchall()       #needed to clean the cursor, otherwise error is obtained in following action\n",
    "except Error as e:\n",
    "    print(\"Error: \",e)"
   ]
  },
  {
   "cell_type": "code",
   "execution_count": 23,
   "id": "a1d877d5",
   "metadata": {},
   "outputs": [
    {
     "name": "stdout",
     "output_type": "stream",
     "text": [
      "('Night of the Living Dead', Decimal('9.90000'))\n",
      "('The Godfather', Decimal('9.90000'))\n",
      "('Avengers: Endgame', Decimal('9.75000'))\n",
      "('Eternal Sunshine of the Spotless Mind', Decimal('8.90000'))\n",
      "('Beasts of No Nation', Decimal('8.70000'))\n"
     ]
    }
   ],
   "source": [
    "select_movies_query = \"\"\"\n",
    "SELECT title, AVG(rating) as average_rating\n",
    "FROM ratings\n",
    "INNER JOIN movies\n",
    "    ON movies.id = ratings.movie_id\n",
    "GROUP BY movie_id\n",
    "ORDER BY average_rating DESC\n",
    "LIMIT 5\n",
    "\"\"\"\n",
    "    \n",
    "try:\n",
    "    with connect(host=\"localhost\",user=user,password=password,database=\"online_movie_rating\") as connection:\n",
    "        with connection.cursor() as cursor:\n",
    "            cursor.execute(select_movies_query)\n",
    "            result = cursor.fetchall()\n",
    "            for row in result:\n",
    "                print(row)\n",
    "except Error as e:\n",
    "    print(\"Error: \",e)"
   ]
  },
  {
   "cell_type": "code",
   "execution_count": 24,
   "id": "ca8ead65",
   "metadata": {},
   "outputs": [
    {
     "name": "stdout",
     "output_type": "stream",
     "text": [
      "('Mary Cooper', 4)\n"
     ]
    }
   ],
   "source": [
    "select_reviewers_query = \"\"\"\n",
    "SELECT CONCAT(first_name, \" \", last_name), COUNT(*) as num\n",
    "FROM reviewers\n",
    "INNER JOIN ratings\n",
    "    ON reviewers.id = ratings.reviewer_id\n",
    "GROUP BY reviewer_id\n",
    "ORDER BY num DESC\n",
    "LIMIT 1\n",
    "\"\"\"\n",
    "\n",
    "try:\n",
    "    with connect(host=\"localhost\",user=user,password=password,database=\"online_movie_rating\") as connection:\n",
    "        with connection.cursor() as cursor:\n",
    "            cursor.execute(select_reviewers_query)\n",
    "            result = cursor.fetchall()\n",
    "            for row in result:\n",
    "                print(row)\n",
    "except Error as e:\n",
    "    print(\"Error: \",e)"
   ]
  },
  {
   "cell_type": "markdown",
   "id": "fe135a5c",
   "metadata": {},
   "source": [
    "## Update records"
   ]
  },
  {
   "cell_type": "code",
   "execution_count": 25,
   "id": "7fa45011",
   "metadata": {},
   "outputs": [],
   "source": [
    "update_query = \"\"\"\n",
    "UPDATE\n",
    "    reviewers\n",
    "SET\n",
    "    last_name = \"Cooper\"\n",
    "WHERE\n",
    "    first_name = \"Amy\"\n",
    "\"\"\"\n",
    "\n",
    "try:\n",
    "    with connect(host=\"localhost\",user=user,password=password,database=\"online_movie_rating\") as connection:\n",
    "        with connection.cursor() as cursor:\n",
    "            cursor.execute(update_query)\n",
    "            connection.commit()\n",
    "except Error as e:\n",
    "    print(\"Error: \",e)"
   ]
  },
  {
   "cell_type": "markdown",
   "id": "c6f2462b",
   "metadata": {},
   "source": [
    "## Delete records"
   ]
  },
  {
   "cell_type": "code",
   "execution_count": 26,
   "id": "3748fe14",
   "metadata": {},
   "outputs": [
    {
     "name": "stdout",
     "output_type": "stream",
     "text": [
      "(2, 7)\n",
      "(2, 8)\n",
      "(2, 12)\n",
      "(2, 23)\n"
     ]
    }
   ],
   "source": [
    "select_ratings_query = \"\"\"\n",
    "SELECT reviewer_id, movie_id FROM ratings\n",
    "WHERE reviewer_id = 2\n",
    "\"\"\"\n",
    "\n",
    "try:\n",
    "    with connect(host=\"localhost\",user=user,password=password,database=\"online_movie_rating\") as connection:\n",
    "        with connection.cursor() as cursor:\n",
    "            cursor.execute(select_ratings_query)\n",
    "            result = cursor.fetchall()\n",
    "            for row in result:\n",
    "                print(row)\n",
    "except Error as e:\n",
    "    print(\"Error: \",e)"
   ]
  },
  {
   "cell_type": "code",
   "execution_count": 27,
   "id": "ba593ce6",
   "metadata": {},
   "outputs": [],
   "source": [
    "delete_query = \"DELETE FROM ratings WHERE reviewer_id = 2\"\n",
    "\n",
    "try:\n",
    "    with connect(host=\"localhost\",user=user,password=password,database=\"online_movie_rating\") as connection:\n",
    "        with connection.cursor() as cursor:\n",
    "            cursor.execute(delete_query)\n",
    "            connection.commit()\n",
    "            cursor.execute(select_ratings_query)\n",
    "            result = cursor.fetchall()\n",
    "            for row in result:\n",
    "                print(row)\n",
    "except Error as e:\n",
    "    print(\"Error: \",e)"
   ]
  },
  {
   "cell_type": "markdown",
   "id": "0cce99c0",
   "metadata": {},
   "source": [
    "## EXTRA: Preparing db for new_entry command"
   ]
  },
  {
   "cell_type": "code",
   "execution_count": 28,
   "id": "46ba226c",
   "metadata": {},
   "outputs": [],
   "source": [
    "delete_ratings_query = \"DELETE FROM ratings\"\n",
    "delete_reviewers_query = \"DELETE FROM reviewers\"\n",
    "try:\n",
    "    with connect(host=\"localhost\",user=user,password=password,database=\"online_movie_rating\") as connection:\n",
    "        with connection.cursor() as cursor:\n",
    "            cursor.execute(delete_ratings_query)\n",
    "            cursor.execute(delete_reviewers_query)\n",
    "            connection.commit()\n",
    "            cursor.execute(select_ratings_query)\n",
    "            result = cursor.fetchall()\n",
    "            for row in result:\n",
    "                print(row)\n",
    "except Error as e:\n",
    "    print(\"Error: \",e)"
   ]
  },
  {
   "cell_type": "code",
   "execution_count": 29,
   "id": "f0414397",
   "metadata": {},
   "outputs": [],
   "source": [
    "alter_table_query = \"\"\"\n",
    "ALTER TABLE reviewers\n",
    "ADD COLUMN user_name VARCHAR(100) NOT NULL,\n",
    "ADD CONSTRAINT UNIQUE (user_name) \n",
    "\"\"\"\n",
    "\n",
    "try:\n",
    "    with connect(host=\"localhost\",user=user,password=password,database=\"online_movie_rating\") as connection:\n",
    "        with connection.cursor() as cursor:\n",
    "            cursor.execute(alter_table_query)\n",
    "            cursor.execute(show_table_query)\n",
    "            # Fetch rows from last executed query\n",
    "            result = cursor.fetchall()\n",
    "except Error as e:\n",
    "    print(\"Error: \",e)"
   ]
  },
  {
   "cell_type": "code",
   "execution_count": 30,
   "id": "57b844bb",
   "metadata": {},
   "outputs": [],
   "source": [
    "insert_reviewers_query = \"\"\"\n",
    "INSERT INTO reviewers\n",
    "(user_name,first_name, last_name)\n",
    "VALUES ( \"pablos-p\", \"Pablo\", \"Sánchez-Palencia\" )\n",
    "\"\"\"\n",
    "\n",
    "try:\n",
    "    with connect(host=\"localhost\",user=user,password=password,database=\"online_movie_rating\") as connection:\n",
    "        with connection.cursor() as cursor:\n",
    "            cursor.execute(insert_reviewers_query)\n",
    "            connection.commit()\n",
    "except Error as e:\n",
    "    print(\"Error: \",e)"
   ]
  },
  {
   "cell_type": "code",
   "execution_count": 31,
   "id": "40474ecb",
   "metadata": {},
   "outputs": [
    {
     "name": "stdout",
     "output_type": "stream",
     "text": [
      "(23, 'Pablo', 'Sánchez-Palencia', 'pablos-p')\n"
     ]
    }
   ],
   "source": [
    "search_reviewers_query = \"\"\"\n",
    "SELECT * FROM reviewers\n",
    "\"\"\"\n",
    "\n",
    "try:\n",
    "    with connect(host=\"localhost\",user=user,password=password,database=\"online_movie_rating\") as connection:\n",
    "        with connection.cursor() as cursor:\n",
    "            cursor.execute(search_reviewers_query)\n",
    "            result=cursor.fetchall()\n",
    "            for reviewer in result:\n",
    "                print (reviewer)\n",
    "except Error as e:\n",
    "    print(\"Error: \",e)"
   ]
  },
  {
   "cell_type": "code",
   "execution_count": null,
   "id": "3d2722ce",
   "metadata": {},
   "outputs": [],
   "source": []
  }
 ],
 "metadata": {
  "kernelspec": {
   "display_name": "Python 3 (ipykernel)",
   "language": "python",
   "name": "python3"
  },
  "language_info": {
   "codemirror_mode": {
    "name": "ipython",
    "version": 3
   },
   "file_extension": ".py",
   "mimetype": "text/x-python",
   "name": "python",
   "nbconvert_exporter": "python",
   "pygments_lexer": "ipython3",
   "version": "3.9.12"
  }
 },
 "nbformat": 4,
 "nbformat_minor": 5
}
