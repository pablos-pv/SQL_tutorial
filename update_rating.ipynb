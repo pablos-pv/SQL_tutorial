{
 "cells": [
  {
   "cell_type": "code",
   "execution_count": null,
   "id": "5b4be690",
   "metadata": {},
   "outputs": [],
   "source": [
    "from getpass import getpass\n",
    "from mysql.connector import connect, Error\n",
    "\n",
    "movie_id = input(\"Enter movie id: \")\n",
    "reviewer_id = input(\"Enter reviewer id: \")\n",
    "new_rating = input(\"Enter new rating: \")\n",
    "update_query = \"\"\"\n",
    "UPDATE\n",
    "    ratings\n",
    "SET\n",
    "    rating = %s\n",
    "WHERE\n",
    "    movie_id = %s AND reviewer_id = %s;\n",
    "\n",
    "SELECT *\n",
    "FROM ratings\n",
    "WHERE\n",
    "    movie_id = %s AND reviewer_id = %s\n",
    "\"\"\"\n",
    "val_tuple = (\n",
    "    new_rating,\n",
    "    movie_id,\n",
    "    reviewer_id,\n",
    "    movie_id,\n",
    "    reviewer_id,\n",
    ")\n",
    "\n",
    "try:\n",
    "    with connect(\n",
    "        host=\"localhost\",\n",
    "        user=input(\"Enter username: \"),\n",
    "        password=getpass(\"Enter password: \"),\n",
    "        database=\"online_movie_rating\",\n",
    "    ) as connection:\n",
    "        with connection.cursor() as cursor:\n",
    "            for result in cursor.execute(update_query, val_tuple, multi=True):\n",
    "                if result.with_rows:\n",
    "                    print(result.fetchall())\n",
    "            connection.commit()\n",
    "except Error as e:\n",
    "    print(e)"
   ]
  }
 ],
 "metadata": {
  "kernelspec": {
   "display_name": "Python 3 (ipykernel)",
   "language": "python",
   "name": "python3"
  },
  "language_info": {
   "codemirror_mode": {
    "name": "ipython",
    "version": 3
   },
   "file_extension": ".py",
   "mimetype": "text/x-python",
   "name": "python",
   "nbconvert_exporter": "python",
   "pygments_lexer": "ipython3",
   "version": "3.9.12"
  }
 },
 "nbformat": 4,
 "nbformat_minor": 5
}
